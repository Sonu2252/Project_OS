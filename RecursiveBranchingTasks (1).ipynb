{
  "cells": [
    {
      "cell_type": "markdown",
      "source": [
        "**Recursive Function Call**"
      ],
      "metadata": {
        "id": "0Qq_tlf4eHDn"
      }
    },
    {
      "cell_type": "markdown",
      "source": [
        "Computing on CPU"
      ],
      "metadata": {
        "id": "MTxjYMlRemf7"
      }
    },
    {
      "cell_type": "code",
      "source": [
        "n=35"
      ],
      "metadata": {
        "id": "7yRbRwekea0B"
      },
      "execution_count": null,
      "outputs": []
    },
    {
      "cell_type": "code",
      "execution_count": null,
      "metadata": {
        "id": "S9Ic6QrClb1t"
      },
      "outputs": [],
      "source": [
        "def fibonacci(n: int, calls_counter=None):\n",
        "    if calls_counter is None:\n",
        "        calls_counter = [0]  # Initialize the counter on the first call\n",
        "\n",
        "    calls_counter[0] += 1  # Increment the counter for each recursive call\n",
        "\n",
        "    if n <= 1:\n",
        "        return n\n",
        "    else:\n",
        "        return fibonacci(n-1, calls_counter) + fibonacci(n-2, calls_counter)\n"
      ]
    },
    {
      "cell_type": "code",
      "execution_count": null,
      "metadata": {
        "id": "TaQHuSHgl1Gw"
      },
      "outputs": [],
      "source": [
        "import time\n",
        "def calculate_metrics(start_time, end_time, num_operations):\n",
        "    duration = end_time - start_time\n",
        "    throughput = num_operations / duration\n",
        "    latency = duration / num_operations\n",
        "    return duration, throughput, latency\n",
        "\n",
        "def display_cpu_metrics(cpu_duration,cpu_throughput,cpu_latency):\n",
        "    print(\"\\nCPU Performance Metrics:\")\n",
        "    print(f\"CPU Duration: {cpu_duration:.6f} seconds\")\n",
        "    print(f\"CPU Throughput: {cpu_throughput:.6f} ops/second\")\n",
        "    print(f\"CPU Latency: {cpu_latency:.12f} seconds/operation\\n\")\n",
        "\n",
        "def display_gpu_metrics(gpu_duration,gpu_throughput,gpu_latency):\n",
        "    print(\"\\nGPU Performance Metrics:\")\n",
        "    print(f\"GPU Duration: {gpu_duration:.6f} seconds\")\n",
        "    print(f\"GPU Throughput: {gpu_throughput:.6f} ops/second\")\n",
        "    print(f\"GPU Latency: {gpu_latency:.12f} seconds/operation\\n\")"
      ]
    },
    {
      "cell_type": "code",
      "execution_count": null,
      "metadata": {
        "colab": {
          "base_uri": "https://localhost:8080/"
        },
        "id": "vJ2GlcTplnfq",
        "outputId": "49ab9078-c1c3-44a2-b077-15e34ec5d4c8"
      },
      "outputs": [
        {
          "output_type": "stream",
          "name": "stdout",
          "text": [
            "9227465\n",
            "29860703\n",
            "\n",
            "CPU Performance Metrics:\n",
            "CPU Duration: 12.804064 seconds\n",
            "CPU Throughput: 2332127.051962 ops/second\n",
            "CPU Latency: 0.000000428793 seconds/operation\n",
            "\n"
          ]
        }
      ],
      "source": [
        "start_time_cpu = time.time()\n",
        "calls_counter = [0]\n",
        "\n",
        "# Calculate Fibonacci number at position n\n",
        "result = fibonacci(n,calls_counter)\n",
        "end_time_cpu = time.time()\n",
        "num_operations = calls_counter[0]\n",
        "\n",
        "\n",
        "cpu_duration, cpu_throughput, cpu_latency = calculate_metrics(start_time_cpu, end_time_cpu, num_operations)\n",
        "print(result)\n",
        "print(num_operations)\n",
        "display_cpu_metrics(cpu_duration,cpu_throughput,cpu_latency)"
      ]
    },
    {
      "cell_type": "markdown",
      "metadata": {
        "id": "UBB3tNvqs66_"
      },
      "source": [
        "\n",
        "\n",
        "```\n",
        "# This is formatted as code\n",
        "```\n",
        "\n",
        "Computing on GPU"
      ]
    },
    {
      "cell_type": "code",
      "source": [
        "n=35"
      ],
      "metadata": {
        "id": "U3SEz4MXekk1"
      },
      "execution_count": null,
      "outputs": []
    },
    {
      "cell_type": "code",
      "execution_count": null,
      "metadata": {
        "id": "3LVHYApmtPx8"
      },
      "outputs": [],
      "source": [
        "def fibonacci(n: int, calls_counter=None):\n",
        "    if calls_counter is None:\n",
        "        calls_counter = [0]  # Initialize the counter on the first call\n",
        "\n",
        "    calls_counter[0] += 1  # Increment the counter for each recursive call\n",
        "\n",
        "    if n <= 1:\n",
        "        return n\n",
        "    else:\n",
        "        return fibonacci(n-1, calls_counter) + fibonacci(n-2, calls_counter)\n"
      ]
    },
    {
      "cell_type": "code",
      "execution_count": null,
      "metadata": {
        "id": "DsW4YS8MtQUg"
      },
      "outputs": [],
      "source": [
        "import time\n",
        "def calculate_metrics(start_time, end_time, num_operations):\n",
        "    duration = end_time - start_time\n",
        "    throughput = num_operations / duration\n",
        "    latency = duration / num_operations\n",
        "    return duration, throughput, latency\n",
        "\n",
        "def display_cpu_metrics(cpu_duration,cpu_throughput,cpu_latency):\n",
        "    print(\"\\nCPU Performance Metrics:\")\n",
        "    print(f\"CPU Duration: {cpu_duration:.6f} seconds\")\n",
        "    print(f\"CPU Throughput: {cpu_throughput:.6f} ops/second\")\n",
        "    print(f\"CPU Latency: {cpu_latency:.12f} seconds/operation\\n\")\n",
        "\n",
        "def display_gpu_metrics(gpu_duration,gpu_throughput,gpu_latency):\n",
        "    print(\"\\nGPU Performance Metrics:\")\n",
        "    print(f\"GPU Duration: {gpu_duration:.6f} seconds\")\n",
        "    print(f\"GPU Throughput: {gpu_throughput:.6f} ops/second\")\n",
        "    print(f\"GPU Latency: {gpu_latency:.12f} seconds/operation\\n\")"
      ]
    },
    {
      "cell_type": "code",
      "execution_count": null,
      "metadata": {
        "colab": {
          "base_uri": "https://localhost:8080/"
        },
        "id": "MRCunVWptSAo",
        "outputId": "1d946fa0-f60b-4a74-889f-38d55e411956"
      },
      "outputs": [
        {
          "output_type": "stream",
          "name": "stdout",
          "text": [
            "9227465\n",
            "29860703\n",
            "\n",
            "GPU Performance Metrics:\n",
            "GPU Duration: 6.096799 seconds\n",
            "GPU Throughput: 4897767.036450 ops/second\n",
            "GPU Latency: 0.000000204175 seconds/operation\n",
            "\n"
          ]
        }
      ],
      "source": [
        "start_time_gpu = time.time()\n",
        "calls_counter = [0]\n",
        "\n",
        "# Calculate Fibonacci number at position n\n",
        "result = fibonacci(n,calls_counter)\n",
        "end_time_gpu = time.time()\n",
        "num_operations = calls_counter[0]\n",
        "gpu_duration, gpu_throughput, gpu_latency = calculate_metrics(start_time_gpu, end_time_gpu, num_operations)\n",
        "print(result)\n",
        "print(num_operations)\n",
        "display_gpu_metrics(gpu_duration,gpu_throughput,gpu_latency)"
      ]
    },
    {
      "cell_type": "markdown",
      "metadata": {
        "id": "rGXJwb4E2t0-"
      },
      "source": [
        "**BRANCHING TASKS:**"
      ]
    },
    {
      "cell_type": "markdown",
      "source": [
        "on CPU\n"
      ],
      "metadata": {
        "id": "IIIANuL9ewRt"
      }
    },
    {
      "cell_type": "code",
      "execution_count": null,
      "metadata": {
        "colab": {
          "base_uri": "https://localhost:8080/"
        },
        "id": "lYrHXnf4t12V",
        "outputId": "b1eb8532-56b6-46fd-c06e-8dab95d6510b"
      },
      "outputs": [
        {
          "output_type": "stream",
          "name": "stdout",
          "text": [
            "Result (CPU): tensor([0.0000e+00, 2.0000e+00, 4.0000e+00,  ..., 1.0000e+06, 2.0000e+06,\n",
            "        1.0000e+06])\n",
            "\n",
            "Performance Metrics (CPU):\n",
            "CPU Duration: 28.525571 seconds\n",
            "Number of Operations: 1000000\n",
            "Throughput: 35056.266286 ops/second\n",
            "Latency: 0.000028525571 seconds/operation\n"
          ]
        }
      ],
      "source": [
        "#ON CPU\n",
        "\n",
        "import torch\n",
        "import time\n",
        "\n",
        "# Define a function with a lot of branching\n",
        "def branching_task(input_tensor):\n",
        "    output = input_tensor.clone()\n",
        "    for i in range(len(input_tensor)):\n",
        "        if input_tensor[i] % 2 == 0:\n",
        "            output[i] = input_tensor[i] * 2\n",
        "        else:\n",
        "            output[i] = input_tensor[i] + 1\n",
        "    return output\n",
        "\n",
        "# Generate a large tensor\n",
        "input_size = 10**6\n",
        "input_tensor = torch.arange(input_size, dtype=torch.float32)\n",
        "\n",
        "# Measure CPU duration\n",
        "start_time_cpu = time.time()\n",
        "\n",
        "result_cpu = branching_task(input_tensor)\n",
        "\n",
        "end_time_cpu = time.time()\n",
        "\n",
        "# Calculate metrics\n",
        "duration_cpu = end_time_cpu - start_time_cpu\n",
        "num_operations_cpu = input_size\n",
        "throughput_cpu = num_operations_cpu / duration_cpu\n",
        "latency_cpu = duration_cpu / num_operations_cpu\n",
        "\n",
        "# Print results\n",
        "print(f\"Result (CPU): {result_cpu}\")\n",
        "print(\"\\nPerformance Metrics (CPU):\")\n",
        "print(f\"CPU Duration: {duration_cpu:.6f} seconds\")\n",
        "print(f\"Number of Operations: {num_operations_cpu}\")\n",
        "print(f\"Throughput: {throughput_cpu:.6f} ops/second\")\n",
        "print(f\"Latency: {latency_cpu:.12f} seconds/operation\")\n"
      ]
    },
    {
      "cell_type": "markdown",
      "source": [
        "On GPU\n"
      ],
      "metadata": {
        "id": "UlPKWq8QezFC"
      }
    },
    {
      "cell_type": "code",
      "source": [
        "\n",
        "#On GPU\n",
        "\n",
        "import torch\n",
        "import time\n",
        "\n",
        "# Define a function with a lot of branching\n",
        "def branching_task(input_tensor):\n",
        "    output = input_tensor.clone()\n",
        "    for i in range(len(input_tensor)):\n",
        "        if input_tensor[i] % 2 == 0:\n",
        "            output[i] = input_tensor[i] * 2\n",
        "        else:\n",
        "            output[i] = input_tensor[i] + 1\n",
        "    return output\n",
        "\n",
        "# Generate a large tensor\n",
        "input_size = 10**6\n",
        "input_tensor = torch.arange(input_size, dtype=torch.float32)\n",
        "\n",
        "# Measure CPU duration\n",
        "start_time_cpu = time.time()\n",
        "\n",
        "result_cpu = branching_task(input_tensor)\n",
        "\n",
        "end_time_cpu = time.time()\n",
        "\n",
        "# Calculate metrics\n",
        "duration_cpu = end_time_cpu - start_time_cpu\n",
        "num_operations_cpu = input_size\n",
        "throughput_cpu = num_operations_cpu / duration_cpu\n",
        "latency_cpu = duration_cpu / num_operations_cpu\n",
        "\n",
        "# Print results\n",
        "print(f\"Result (GPU): {result_cpu}\")\n",
        "print(\"\\nPerformance Metrics (GPU):\")\n",
        "print(f\"GPU Duration: {duration_cpu:.6f} seconds\")\n",
        "print(f\"Number of Operations: {num_operations_cpu}\")\n",
        "print(f\"Throughput: {throughput_cpu:.6f} ops/second\")\n",
        "print(f\"Latency: {latency_cpu:.12f} seconds/operation\")\n"
      ],
      "metadata": {
        "colab": {
          "base_uri": "https://localhost:8080/"
        },
        "id": "n9yc5h1d60uP",
        "outputId": "e48b59f2-b9e6-4c14-d4f9-754c56181927"
      },
      "execution_count": null,
      "outputs": [
        {
          "output_type": "stream",
          "name": "stdout",
          "text": [
            "Result (GPU): tensor([0.0000e+00, 2.0000e+00, 4.0000e+00,  ..., 1.0000e+06, 2.0000e+06,\n",
            "        1.0000e+06])\n",
            "\n",
            "Performance Metrics (GPU):\n",
            "GPU Duration: 28.831580 seconds\n",
            "Number of Operations: 1000000\n",
            "Throughput: 34684.190136 ops/second\n",
            "Latency: 0.000028831580 seconds/operation\n"
          ]
        }
      ]
    },
    {
      "cell_type": "code",
      "source": [],
      "metadata": {
        "id": "xBx1BxWDlFZ7"
      },
      "execution_count": null,
      "outputs": []
    }
  ],
  "metadata": {
    "colab": {
      "provenance": [],
      "gpuType": "T4"
    },
    "kernelspec": {
      "display_name": "Python 3",
      "name": "python3"
    },
    "language_info": {
      "name": "python"
    },
    "accelerator": "GPU"
  },
  "nbformat": 4,
  "nbformat_minor": 0
}